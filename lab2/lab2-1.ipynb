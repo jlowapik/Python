{
 "cells": [
  {
   "cell_type": "code",
   "execution_count": null,
   "id": "2e5a70dc",
   "metadata": {},
   "outputs": [
    {
     "name": "stdout",
     "output_type": "stream",
     "text": [
      "0\n"
     ]
    }
   ],
   "source": [
    "def calc(data):\n",
    "    def operation(op, x, y):\n",
    "        operators = {\n",
    "            '+': x + y,\n",
    "            '-': x - y,\n",
    "            '*': x * y,\n",
    "            '/': x / y\n",
    "        }\n",
    "        return operators[op]\n",
    "\n",
    "    operators = '+-*/'\n",
    "\n",
    "    operator = ''\n",
    "    for i in range(1, len(data)):\n",
    "        if data[i] in operators:\n",
    "            operator = data[i]\n",
    "            break\n",
    "\n",
    "    parts = data.split(operator, 1)\n",
    "    return operation(operator, int(parts[0]), int(parts[1]))\n",
    "\n",
    "\n",
    "data = input('---')\n",
    "print(calc(data))"
   ]
  }
 ],
 "metadata": {
  "kernelspec": {
   "display_name": "Python 3",
   "language": "python",
   "name": "python3"
  },
  "language_info": {
   "codemirror_mode": {
    "name": "ipython",
    "version": 3
   },
   "file_extension": ".py",
   "mimetype": "text/x-python",
   "name": "python",
   "nbconvert_exporter": "python",
   "pygments_lexer": "ipython3",
   "version": "3.13.7"
  }
 },
 "nbformat": 4,
 "nbformat_minor": 5
}
