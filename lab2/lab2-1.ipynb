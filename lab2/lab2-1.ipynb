{
 "cells": [
  {
   "cell_type": "code",
   "execution_count": null,
   "id": "2e5a70dc",
   "metadata": {},
   "outputs": [
    {
     "name": "stdout",
     "output_type": "stream",
     "text": [
      "0\n"
     ]
    }
   ],
   "source": [
    "def calc(data):\n",
    "    def operation(op, x, y):\n",
    "        operators = {\n",
    "            'sum': x + y,\n",
    "            'dif': x - y,\n",
    "            'mul': x * y,\n",
    "            'div': x / y\n",
    "        }\n",
    "        return operators[op]\n",
    "\n",
    "    operators = {\n",
    "        '+': 'sum',\n",
    "        '-': 'dif',\n",
    "        '*': 'mul',\n",
    "        '/': 'div'\n",
    "    }\n",
    "\n",
    "    operator = ''\n",
    "    for i in data:\n",
    "        if i in operators:\n",
    "            operator = i\n",
    "    data = data.split(operator)\n",
    "    return operation(operators[operator], int(data[0]), int(data[1]))\n",
    "\n",
    "data = input('---')\n",
    "print(calc(data))"
   ]
  }
 ],
 "metadata": {
  "kernelspec": {
   "display_name": "Python 3",
   "language": "python",
   "name": "python3"
  },
  "language_info": {
   "codemirror_mode": {
    "name": "ipython",
    "version": 3
   },
   "file_extension": ".py",
   "mimetype": "text/x-python",
   "name": "python",
   "nbconvert_exporter": "python",
   "pygments_lexer": "ipython3",
   "version": "3.13.7"
  }
 },
 "nbformat": 4,
 "nbformat_minor": 5
}
