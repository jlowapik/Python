{
 "cells": [
  {
   "cell_type": "code",
   "execution_count": 13,
   "id": "bb120b33",
   "metadata": {},
   "outputs": [
    {
     "ename": "ImportError",
     "evalue": "cannot import name 'Skeleton' from 'Enemy' (d:\\pythonlabs\\PythonLabs\\piton\\Enemy.py)",
     "output_type": "error",
     "traceback": [
      "\u001b[31m---------------------------------------------------------------------------\u001b[39m",
      "\u001b[31mImportError\u001b[39m                               Traceback (most recent call last)",
      "\u001b[36mCell\u001b[39m\u001b[36m \u001b[39m\u001b[32mIn[13]\u001b[39m\u001b[32m, line 2\u001b[39m\n\u001b[32m      1\u001b[39m \u001b[38;5;28;01mfrom\u001b[39;00m\u001b[38;5;250m \u001b[39m\u001b[34;01mPlayer\u001b[39;00m\u001b[38;5;250m \u001b[39m\u001b[38;5;28;01mimport\u001b[39;00m Player\n\u001b[32m----> \u001b[39m\u001b[32m2\u001b[39m \u001b[38;5;28;01mfrom\u001b[39;00m\u001b[38;5;250m \u001b[39m\u001b[34;01mEnemy\u001b[39;00m\u001b[38;5;250m \u001b[39m\u001b[38;5;28;01mimport\u001b[39;00m Zombie, Skeleton\n\u001b[32m      3\u001b[39m \u001b[38;5;28;01mimport\u001b[39;00m\u001b[38;5;250m \u001b[39m\u001b[34;01mrandom\u001b[39;00m\n\u001b[32m      5\u001b[39m player = Player(\u001b[32m100\u001b[39m, \u001b[32m30\u001b[39m, \u001b[32m0\u001b[39m)\n",
      "\u001b[31mImportError\u001b[39m: cannot import name 'Skeleton' from 'Enemy' (d:\\pythonlabs\\PythonLabs\\piton\\Enemy.py)"
     ]
    }
   ],
   "source": [
    "from Player import Player\n",
    "from Enemy import Zombie, Skeleton\n",
    "import random\n",
    "\n",
    "player = Player(100, 30, 0)\n",
    "\n",
    "enemy1 = Zombie(30, 20, 5)\n",
    "enemy2 = Skeleton(30, 20, 5)\n",
    "enemy3 = None\n",
    "\n",
    "turns = 0\n",
    "safe_turns = 0\n",
    "inputs = ['hit', 'block', 'enemy check', 'inputs', 'self check']"
   ]
  },
  {
   "cell_type": "code",
   "execution_count": null,
   "id": "e7d63cc9",
   "metadata": {},
   "outputs": [],
   "source": [
    "def turn(user_input):\n",
    "        match user_input:\n",
    "            case 'stop':\n",
    "                   exit()\n",
    "            case 'hit':\n",
    "                enemy_choose = input('---which enemy?---')\n",
    "                match enemy_choose:\n",
    "                    case 'enemy1':\n",
    "                        enemy1.taking_damage(player.damage)"
   ]
  },
  {
   "cell_type": "code",
   "execution_count": null,
   "id": "5587d549",
   "metadata": {},
   "outputs": [
    {
     "ename": "NameError",
     "evalue": "name 'Skeleton' is not defined",
     "output_type": "error",
     "traceback": [
      "\u001b[31m---------------------------------------------------------------------------\u001b[39m",
      "\u001b[31mNameError\u001b[39m                                 Traceback (most recent call last)",
      "\u001b[36mCell\u001b[39m\u001b[36m \u001b[39m\u001b[32mIn[11]\u001b[39m\u001b[32m, line 7\u001b[39m\n\u001b[32m      5\u001b[39m         enemy3 = random.choice(enemies)\n\u001b[32m      6\u001b[39m         \u001b[38;5;28;01mreturn\u001b[39;00m enemy1, enemy2, enemy3\n\u001b[32m----> \u001b[39m\u001b[32m7\u001b[39m \u001b[38;5;28mprint\u001b[39m(\u001b[43mwave_generate\u001b[49m\u001b[43m(\u001b[49m\u001b[32;43m1\u001b[39;49m\u001b[43m)\u001b[49m)\n",
      "\u001b[36mCell\u001b[39m\u001b[36m \u001b[39m\u001b[32mIn[11]\u001b[39m\u001b[32m, line 2\u001b[39m, in \u001b[36mwave_generate\u001b[39m\u001b[34m(diff_modifier)\u001b[39m\n\u001b[32m      1\u001b[39m \u001b[38;5;28;01mdef\u001b[39;00m\u001b[38;5;250m \u001b[39m\u001b[34mwave_generate\u001b[39m(diff_modifier):\n\u001b[32m----> \u001b[39m\u001b[32m2\u001b[39m         enemies = [Zombie(\u001b[32m100\u001b[39m * diff_modifier, \u001b[32m30\u001b[39m, \u001b[32m0\u001b[39m), \u001b[43mSkeleton\u001b[49m(\u001b[32m50\u001b[39m * diff_modifier, \u001b[32m40\u001b[39m, \u001b[32m0\u001b[39m), \u001b[38;5;28;01mNone\u001b[39;00m]\n\u001b[32m      3\u001b[39m         enemy1 = random.choice(enemies)\n\u001b[32m      4\u001b[39m         enemy2 = random.choice(enemies)\n",
      "\u001b[31mNameError\u001b[39m: name 'Skeleton' is not defined"
     ]
    }
   ],
   "source": [
    "def wave_generate(diff_modifier):\n",
    "        enemies = [Zombie(50 * diff_modifier, 30, 0), Skeleton(30 * diff_modifier, 40, 0), None]\n",
    "        enemy1 = random.choice(enemies)\n",
    "        enemy2 = random.choice(enemies)\n",
    "        enemy3 = random.choice(enemies)\n",
    "        return enemy1, enemy2, enemy3\n",
    "print(wave_generate(1))"
   ]
  },
  {
   "cell_type": "code",
   "execution_count": null,
   "id": "69defe64",
   "metadata": {},
   "outputs": [],
   "source": [
    "\n",
    "\n",
    "print('Game over')"
   ]
  }
 ],
 "metadata": {
  "kernelspec": {
   "display_name": "Python 3",
   "language": "python",
   "name": "python3"
  },
  "language_info": {
   "codemirror_mode": {
    "name": "ipython",
    "version": 3
   },
   "file_extension": ".py",
   "mimetype": "text/x-python",
   "name": "python",
   "nbconvert_exporter": "python",
   "pygments_lexer": "ipython3",
   "version": "3.13.7"
  }
 },
 "nbformat": 4,
 "nbformat_minor": 5
}
